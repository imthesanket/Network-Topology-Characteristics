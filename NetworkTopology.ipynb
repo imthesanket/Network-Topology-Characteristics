{
  "nbformat": 4,
  "nbformat_minor": 0,
  "metadata": {
    "colab": {
      "name": "Group 18 - ITCS 6114",
      "provenance": [],
      "collapsed_sections": [],
      "include_colab_link": true
    },
    "kernelspec": {
      "name": "python3",
      "display_name": "Python 3"
    },
    "language_info": {
      "name": "python"
    },
    "widgets": {
      "application/vnd.jupyter.widget-state+json": {
        "90f5a9ef4115457185716b9bd5f76029": {
          "model_module": "algorithmx-jupyter",
          "model_name": "AlgorithmXModel",
          "model_module_version": "^3.0.0",
          "state": {
            "_view_name": "AlgorithmXView",
            "_dom_classes": [],
            "show_buttons": false,
            "_model_name": "AlgorithmXModel",
            "_view_module": "algorithmx-jupyter",
            "_model_module_version": "^3.0.0",
            "_view_count": null,
            "_view_module_version": "^3.0.0",
            "layout": "IPY_MODEL_2cb2e062cd9746a9be2a99d4f6944c94",
            "_model_module": "algorithmx-jupyter",
            "events": [
              "{\"attrs\": {\"size\": [1200, 250]}}",
              "{\"attrs\": {\"nodes\": {\"0\": {}, \"1\": {}, \"2\": {}, \"3\": {}, \"4\": {}, \"5\": {}, \"6\": {}, \"7\": {}}}}",
              "{\"attrs\": {\"edges\": {\"0-2\": {\"source\": \"0\", \"target\": \"2\", \"directed\": true, \"labels\": {\"0\": {\"text\": 3}}}, \"0-5\": {\"source\": \"0\", \"target\": \"5\", \"directed\": true, \"labels\": {\"0\": {\"text\": 3}}}, \"0-6\": {\"source\": \"0\", \"target\": \"6\", \"directed\": true, \"labels\": {\"0\": {\"text\": 10}}}, \"1-2\": {\"source\": \"1\", \"target\": \"2\", \"directed\": true, \"labels\": {\"0\": {\"text\": 4}}}, \"1-5\": {\"source\": \"1\", \"target\": \"5\", \"directed\": true, \"labels\": {\"0\": {\"text\": 4}}}, \"2-0\": {\"source\": \"2\", \"target\": \"0\", \"directed\": true, \"labels\": {\"0\": {\"text\": 7}}}, \"2-1\": {\"source\": \"2\", \"target\": \"1\", \"directed\": true, \"labels\": {\"0\": {\"text\": 5}}}, \"2-3\": {\"source\": \"2\", \"target\": \"3\", \"directed\": true, \"labels\": {\"0\": {\"text\": 9}}}, \"2-4\": {\"source\": \"2\", \"target\": \"4\", \"directed\": true, \"labels\": {\"0\": {\"text\": 10}}}, \"3-2\": {\"source\": \"3\", \"target\": \"2\", \"directed\": true, \"labels\": {\"0\": {\"text\": 5}}}, \"3-7\": {\"source\": \"3\", \"target\": \"7\", \"directed\": true, \"labels\": {\"0\": {\"text\": 9}}}, \"4-2\": {\"source\": \"4\", \"target\": \"2\", \"directed\": true, \"labels\": {\"0\": {\"text\": 5}}}, \"5-0\": {\"source\": \"5\", \"target\": \"0\", \"directed\": true, \"labels\": {\"0\": {\"text\": 6}}}, \"5-1\": {\"source\": \"5\", \"target\": \"1\", \"directed\": true, \"labels\": {\"0\": {\"text\": 9}}}, \"6-0\": {\"source\": \"6\", \"target\": \"0\", \"directed\": true, \"labels\": {\"0\": {\"text\": 6}}}, \"7-3\": {\"source\": \"7\", \"target\": \"3\", \"directed\": true, \"labels\": {\"0\": {\"text\": 2}}}}}}"
            ]
          }
        },
        "2cb2e062cd9746a9be2a99d4f6944c94": {
          "model_module": "@jupyter-widgets/base",
          "model_name": "LayoutModel",
          "model_module_version": "1.2.0",
          "state": {
            "_view_name": "LayoutView",
            "grid_template_rows": null,
            "right": null,
            "justify_content": null,
            "_view_module": "@jupyter-widgets/base",
            "overflow": null,
            "_model_module_version": "1.2.0",
            "_view_count": null,
            "flex_flow": null,
            "width": null,
            "min_width": null,
            "border": null,
            "align_items": null,
            "bottom": null,
            "_model_module": "@jupyter-widgets/base",
            "top": null,
            "grid_column": null,
            "overflow_y": null,
            "overflow_x": null,
            "grid_auto_flow": null,
            "grid_area": null,
            "grid_template_columns": null,
            "flex": null,
            "_model_name": "LayoutModel",
            "justify_items": null,
            "grid_row": null,
            "max_height": null,
            "align_content": null,
            "visibility": null,
            "align_self": null,
            "height": null,
            "min_height": null,
            "padding": null,
            "grid_auto_rows": null,
            "grid_gap": null,
            "max_width": null,
            "order": null,
            "_view_module_version": "1.2.0",
            "grid_template_areas": null,
            "object_position": null,
            "object_fit": null,
            "grid_auto_columns": null,
            "margin": null,
            "display": null,
            "left": null
          }
        }
      }
    }
  },
  "cells": [
    {
      "cell_type": "markdown",
      "metadata": {
        "id": "view-in-github",
        "colab_type": "text"
      },
      "source": [
        "<a href=\"https://colab.research.google.com/github/imthesanket/Network_Topology_Characteristics/blob/master/NetworkTopology.ipynb\" target=\"_parent\"><img src=\"https://colab.research.google.com/assets/colab-badge.svg\" alt=\"Open In Colab\"/></a>"
      ]
    },
    {
      "cell_type": "code",
      "metadata": {
        "id": "jS6t3Bkr7PqN",
        "colab": {
          "base_uri": "https://localhost:8080/"
        },
        "outputId": "b560b056-b7eb-4069-a9ef-3f6c8f134454"
      },
      "source": [
        "import networkx as nx\n",
        "import matplotlib.pyplot as plt\n",
        "from networkx.generators.random_graphs import dense_gnm_random_graph\n",
        "import seaborn as sns\n",
        "import numpy as np\n",
        "from random import randint\n",
        "# collab requirement to install algorithmx, for every runtime session \n",
        "!pip install algorithmx\n",
        "import algorithmx\n",
        "from algorithmx.networkx import add_graph\n",
        "from google.colab import output\n",
        "output.enable_custom_widget_manager()"
      ],
      "execution_count": null,
      "outputs": [
        {
          "output_type": "stream",
          "name": "stdout",
          "text": [
            "Requirement already satisfied: algorithmx in /usr/local/lib/python3.7/dist-packages (2.0.3)\n"
          ]
        }
      ]
    },
    {
      "cell_type": "code",
      "metadata": {
        "id": "8zexBtjT7dpm"
      },
      "source": [
        "# Generate random graph of 'n' nodes and 'm' edges\n",
        "n = 8\n",
        "m = 8\n",
        "G = dense_gnm_random_graph(n, m, seed=7)"
      ],
      "execution_count": null,
      "outputs": []
    },
    {
      "cell_type": "code",
      "metadata": {
        "colab": {
          "base_uri": "https://localhost:8080/",
          "height": 319
        },
        "id": "PlXrZlKxASmR",
        "outputId": "a5f47938-7ade-4e78-9116-9be5aa51dd23"
      },
      "source": [
        "# Display randomly generated graph 'G'\n",
        "plt.figure(0)\n",
        "nx.draw(G, with_labels=True)\n",
        "plt.show()"
      ],
      "execution_count": null,
      "outputs": [
        {
          "output_type": "display_data",
          "data": {
            "image/png": "[encoded data removed]",
            "text/plain": [
              "<Figure size 432x288 with 1 Axes>"
            ]
          },
          "metadata": {}
        }
      ]
    },
    {
      "cell_type": "code",
      "metadata": {
        "colab": {
          "base_uri": "https://localhost:8080/",
          "height": 271,
          "referenced_widgets": [
            "90f5a9ef4115457185716b9bd5f76029",
            "2cb2e062cd9746a9be2a99d4f6944c94"
          ]
        },
        "id": "p4N806RID-fN",
        "outputId": "061c8576-6e4f-4b80-c9fc-05c0f921a7f8"
      },
      "source": [
        "G_directed = G.to_directed()\n",
        "nx.set_edge_attributes(G_directed, {e: {'weight': randint(1, 10)} for e in G_directed.edges})\n",
        "\n",
        "canvas = algorithmx.jupyter_canvas()\n",
        "canvas.size((1200, 250))\n",
        "add_graph(canvas, G_directed)"
      ],
      "execution_count": null,
      "outputs": [
        {
          "output_type": "display_data",
          "data": {
            "application/vnd.jupyter.widget-view+json": {
              "model_id": "90f5a9ef4115457185716b9bd5f76029",
              "version_minor": 0,
              "version_major": 2
            },
            "text/plain": [
              "JupyterWidget(events=['{\"attrs\": {\"size\": [1200, 250]}}', '{\"attrs\": {\"nodes\": {\"0\": {}, \"1\": {}, \"2\": {}, \"3\"…"
            ]
          },
          "metadata": {
            "application/vnd.jupyter.widget-view+json": {
              "colab": {
                "custom_widget_manager": {
                  "url": "https://ssl.gstatic.com/colaboratory-static/widgets/colab-cdn-widget-manager/a8874ba6619b6106/manager.min.js"
                }
              }
            }
          }
        }
      ]
    },
    {
      "cell_type": "code",
      "metadata": {
        "colab": {
          "base_uri": "https://localhost:8080/"
        },
        "id": "1epA1XpH7grm",
        "outputId": "23f4c161-6bd3-4738-b079-decb1383172f"
      },
      "source": [
        "# Display degree of each node\n",
        "degree_of_nodes = nx.degree(G_directed)\n",
        "print(\"Degrees of nodes = \", degree_of_nodes)"
      ],
      "execution_count": null,
      "outputs": [
        {
          "output_type": "stream",
          "name": "stdout",
          "text": [
            "Degrees of nodes =  [(0, 6), (1, 4), (2, 8), (3, 4), (4, 2), (5, 4), (6, 2), (7, 2)]\n"
          ]
        }
      ]
    },
    {
      "cell_type": "code",
      "metadata": {
        "id": "E7Vqt-oK9LDc",
        "colab": {
          "base_uri": "https://localhost:8080/",
          "height": 388
        },
        "outputId": "c4892a1e-9cf0-4069-dfdc-d11696bd73a8"
      },
      "source": [
        "# Frequeny distribution for degree of nodes \n",
        "degree_freq= np.array(nx.degree_histogram(G_directed)).astype('float')\n",
        "plt.figure(figsize=(12,6))\n",
        "plt.xlabel(\"Degree\")\n",
        "plt.ylabel(\"Frequency\")\n",
        "plt.stem(degree_freq,use_line_collection=True)\n",
        "plt.show()"
      ],
      "execution_count": null,
      "outputs": [
        {
          "output_type": "display_data",
          "data": {
            "image/png": "[encoded data removed]",
            "text/plain": [
              "<Figure size 864x432 with 1 Axes>"
            ]
          },
          "metadata": {
            "needs_background": "light"
          }
        }
      ]
    },
    {
      "cell_type": "code",
      "metadata": {
        "colab": {
          "base_uri": "https://localhost:8080/"
        },
        "id": "i90cATY57jPK",
        "outputId": "3aaa392f-642a-4fab-b68b-ca7d2c751710"
      },
      "source": [
        "# Betweenness Centrality\n",
        "betweenness_centrality = nx.betweenness_centrality(G_directed, normalized=True)\n",
        "print(\"Betweenness Centrality = \", betweenness_centrality)"
      ],
      "execution_count": null,
      "outputs": [
        {
          "output_type": "stream",
          "name": "stdout",
          "text": [
            "Betweenness Centrality =  {0: 0.38095238095238093, 1: 0.09523809523809523, 2: 0.7142857142857142, 3: 0.2857142857142857, 4: 0.0, 5: 0.047619047619047616, 6: 0.0, 7: 0.0}\n"
          ]
        }
      ]
    },
    {
      "cell_type": "code",
      "metadata": {
        "colab": {
          "base_uri": "https://localhost:8080/"
        },
        "id": "t0HEwi_e7sRh",
        "outputId": "5370c82c-f433-40c1-cdab-6e014b56722d"
      },
      "source": [
        "# Page rank centrality\n",
        "page_rank_centrality = nx.pagerank(G_directed)\n",
        "print(\"Pagerank Centrality = \", page_rank_centrality)"
      ],
      "execution_count": null,
      "outputs": [
        {
          "output_type": "stream",
          "name": "stdout",
          "text": [
            "Pagerank Centrality =  {0: 0.18455154217445469, 1: 0.08927171635709302, 2: 0.19408940277450837, 3: 0.1542085826786811, 4: 0.07196815878977121, 5: 0.08610371778645365, 6: 0.11679373441353982, 7: 0.10301314502549803}\n"
          ]
        }
      ]
    },
    {
      "cell_type": "code",
      "metadata": {
        "colab": {
          "base_uri": "https://localhost:8080/"
        },
        "id": "y9PPkGJ97xd0",
        "outputId": "bc617b42-516a-4b92-b644-3e8f5a868340"
      },
      "source": [
        "# Closeness Centrality\n",
        "closeness_centrality = nx.closeness_centrality(G_directed)\n",
        "print(\"Closeness Centrality = \", closeness_centrality)"
      ],
      "execution_count": null,
      "outputs": [
        {
          "output_type": "stream",
          "name": "stdout",
          "text": [
            "Closeness Centrality =  {0: 0.5833333333333334, 1: 0.5, 2: 0.7, 3: 0.5, 4: 0.4375, 5: 0.4375, 6: 0.3888888888888889, 7: 0.35}\n"
          ]
        }
      ]
    },
    {
      "cell_type": "code",
      "metadata": {
        "colab": {
          "base_uri": "https://localhost:8080/"
        },
        "id": "qeHSAVwE78h5",
        "outputId": "90298cdd-7f07-4c4c-d3cb-a6d2baec27d7"
      },
      "source": [
        "# Information centrality\n",
        "information_centrality =  nx.information_centrality(G)\n",
        "print(\"Information_Centrality = \", information_centrality)"
      ],
      "execution_count": null,
      "outputs": [
        {
          "output_type": "stream",
          "name": "stdout",
          "text": [
            "Information_Centrality =  {0: 0.1025641025641026, 1: 0.09302325581395351, 2: 0.12121212121212122, 3: 0.08163265306122448, 4: 0.07017543859649122, 5: 0.08888888888888892, 6: 0.0634920634920635, 7: 0.054794520547945216}\n"
          ]
        }
      ]
    },
    {
      "cell_type": "code",
      "metadata": {
        "colab": {
          "base_uri": "https://localhost:8080/"
        },
        "id": "jAtmTU7R8AB2",
        "outputId": "c0ec7876-baba-4c3e-ba14-afea8b7ec831"
      },
      "source": [
        "# Average Shortest Path length\n",
        "average_shortest_path_length = nx.average_shortest_path_length(G)\n",
        "print(\"Average Shortest Path length = \", average_shortest_path_length)\n",
        "print(\"****SHORTEST PATH (Undirected graph)****\")\n",
        "source_ = int(input(\"Enter source node number: \"))\n",
        "target_ = int(input(\"Enter target node number: \"))\n",
        "print(\"Shortest Path = \",nx.shortest_path(G, source=source_, target=target_))\n",
        "print(\"Shortest Path length = \",nx.shortest_path_length(G, source=source_,target=target_))"
      ],
      "execution_count": null,
      "outputs": [
        {
          "output_type": "stream",
          "name": "stdout",
          "text": [
            "Average Shortest Path length =  2.142857142857143\n",
            "****SHORTEST PATH (Undirected graph)****\n",
            "Enter source node number: 1\n",
            "Enter target node number: 6\n",
            "Shortest Path =  [1, 2, 0, 6]\n",
            "Shortest Path length =  3\n"
          ]
        }
      ]
    },
    {
      "cell_type": "code",
      "metadata": {
        "colab": {
          "base_uri": "https://localhost:8080/"
        },
        "id": "fUsR0MT_CHqW",
        "outputId": "33887359-96a1-4380-e39a-083cebdb051a"
      },
      "source": [
        "print(\"****SHORTEST PATH using Dijkstra's algorithm (Directed weighted graph)****\")\n",
        "source_ = int(input(\"Enter source node number: \"))\n",
        "target_ = int(input(\"Enter target node number: \"))\n",
        "print(\"Shortest Path = \",nx.dijkstra_path(G_directed, source=source_, target=target_))\n",
        "print(\"Shortest Path length = \",nx.dijkstra_path_length(G_directed, source=source_,target=target_))"
      ],
      "execution_count": null,
      "outputs": [
        {
          "output_type": "stream",
          "name": "stdout",
          "text": [
            "****SHORTEST PATH using Dijkstra's algorithm (Directed weighted graph)****\n",
            "Enter source node number: 2\n",
            "Enter target node number: 7\n",
            "Shortest Path =  [2, 3, 7]\n",
            "Shortest Path length =  18\n"
          ]
        }
      ]
    },
    {
      "cell_type": "code",
      "metadata": {
        "colab": {
          "base_uri": "https://localhost:8080/"
        },
        "id": "c9rKeoJV8Fkz",
        "outputId": "5f2944dd-64b3-422e-fea2-d62626c762c5"
      },
      "source": [
        "# Diameter of graph 'G_directed'\n",
        "diameter = nx.diameter(G_directed)\n",
        "print(\"Diameter of graph = \", diameter)"
      ],
      "execution_count": null,
      "outputs": [
        {
          "output_type": "stream",
          "name": "stdout",
          "text": [
            "Diameter of graph =  4\n"
          ]
        }
      ]
    },
    {
      "cell_type": "code",
      "metadata": {
        "colab": {
          "base_uri": "https://localhost:8080/"
        },
        "id": "XXBEHCww8TIw",
        "outputId": "effebf9c-495b-49fc-9637-252993e86180"
      },
      "source": [
        "# Compute the clustering coefficient for nodes\n",
        "clustering_coefficient = nx.clustering(G)\n",
        "print(\"Average Clustering Coefficent = \", clustering_coefficient)"
      ],
      "execution_count": null,
      "outputs": [
        {
          "output_type": "stream",
          "name": "stdout",
          "text": [
            "Average Clustering Coefficent =  {0: 0, 1: 0, 2: 0, 3: 0, 4: 0, 5: 0, 6: 0, 7: 0}\n"
          ]
        }
      ]
    },
    {
      "cell_type": "code",
      "metadata": {
        "colab": {
          "base_uri": "https://localhost:8080/"
        },
        "id": "9yFFHLzQ8YUQ",
        "outputId": "c92dc2d3-85d0-4f05-a11a-22fcb440e8e5"
      },
      "source": [
        "# Degree assortativity\n",
        "degree_assortativity_coefficient = nx.degree_assortativity_coefficient(G)\n",
        "print(\"Degree assortativity = \", degree_assortativity_coefficient)"
      ],
      "execution_count": null,
      "outputs": [
        {
          "output_type": "stream",
          "name": "stdout",
          "text": [
            "Degree assortativity =  -0.3333333333333333\n"
          ]
        }
      ]
    },
    {
      "cell_type": "code",
      "metadata": {
        "colab": {
          "base_uri": "https://localhost:8080/",
          "height": 480
        },
        "id": "7GVEnGz48cmt",
        "outputId": "079df336-a4f0-460d-9d04-c7fdd79050f0"
      },
      "source": [
        "# K-Core with minimum degree count as 3\n",
        "k_core = nx.k_core(G, 2)\n",
        "print(\"K-cores \", k_core)\n",
        "plt.figure(1, figsize=(12,6))\n",
        "nx.draw(k_core, with_labels=True)"
      ],
      "execution_count": null,
      "outputs": [
        {
          "output_type": "stream",
          "name": "stdout",
          "text": [
            "K-cores  Graph with 4 nodes and 4 edges\n"
          ]
        },
        {
          "output_type": "display_data",
          "data": {
            "image/png": "[encoded data removed]",
            "text/plain": [
              "<Figure size 864x432 with 1 Axes>"
            ]
          },
          "metadata": {}
        }
      ]
    }
  ]
}